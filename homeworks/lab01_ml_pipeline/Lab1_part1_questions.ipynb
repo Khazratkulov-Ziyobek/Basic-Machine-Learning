{
 "cells": [
  {
   "cell_type": "markdown",
   "metadata": {
    "id": "gKC81eCISfuh"
   },
   "source": [
    "*Credits: materials from this notebook belong to YSDA [Practical DL](https://github.com/yandexdataschool/Practical_DL) course. Special thanks for making them available online.*"
   ]
  },
  {
   "cell_type": "markdown",
   "metadata": {
    "id": "v-vxQsX3Sfuq"
   },
   "source": [
    "# Lab assignment №1, part 1\n",
    "\n",
    "This lab assignment consists of several parts. You are supposed to make some transformations, train some models, estimate the quality of the models and explain your results.\n",
    "\n",
    "Several comments:\n",
    "* Don't hesitate to ask questions, it's a good practice.\n",
    "* No private/public sharing, please. The copied assignments will be graded with 0 points.\n",
    "* Blocks of this lab will be graded separately."
   ]
  },
  {
   "cell_type": "markdown",
   "metadata": {
    "id": "KKhqYZFXSfut"
   },
   "source": [
    "## 1. Matrix differentiation"
   ]
  },
  {
   "cell_type": "markdown",
   "metadata": {
    "id": "woShAYXASfuu"
   },
   "source": [
    "Since it easy to google every task please please please try to undestand what's going on. The \"just answer\" thing will be not counted, make sure to present derivation of your solution. It is absolutely OK if you found an answer on web then just exercise in $\\LaTeX$ copying it into here."
   ]
  },
  {
   "cell_type": "markdown",
   "metadata": {
    "id": "tlbq_mSLSfuw"
   },
   "source": [
    "Useful links: \n",
    "[1](http://www.machinelearning.ru/wiki/images/2/2a/Matrix-Gauss.pdf)\n",
    "[2](http://www.atmos.washington.edu/~dennis/MatrixCalculus.pdf)"
   ]
  },
  {
   "cell_type": "markdown",
   "metadata": {
    "id": "ZAWntx9tSfux"
   },
   "source": [
    "## ex. 1"
   ]
  },
  {
   "cell_type": "markdown",
   "metadata": {
    "id": "hkKYsx1RSfuy"
   },
   "source": [
    "$$  \n",
    "y = x^Tx,  \\quad x \\in \\mathbb{R}^N \n",
    "$$"
   ]
  },
  {
   "cell_type": "markdown",
   "metadata": {
    "id": "DekbGn-vSfuz"
   },
   "source": [
    "$$\n",
    "\\frac{dy}{dx} = \\frac{d(x^Tx)}{dx} = x + (x^T)^T = 2x\n",
    "$$ "
   ]
  },
  {
   "cell_type": "markdown",
   "metadata": {
    "id": "eNCOdKGZSfu4"
   },
   "source": [
    "## ex. 2"
   ]
  },
  {
   "cell_type": "markdown",
   "metadata": {
    "id": "AmfBs8D3Sfu5"
   },
   "source": [
    "$$ y = tr(AB) \\quad A,B \\in \\mathbb{R}^{N \\times N} $$ "
   ]
  },
  {
   "cell_type": "markdown",
   "metadata": {
    "id": "diw15Bu-Sfu7"
   },
   "source": [
    "$$\n",
    "\\frac{dy}{dA} =\n",
    "$$\n",
    "First of all, let's consider $C = AB$:\n",
    "$$\n",
    "c_{ij} = \\sum_{l=1}^{n} a_{il} b_{lj}\n",
    "$$\n",
    "Then we can express y:\n",
    "$$\n",
    "y = tr(AB) = \\sum_{i=1}^{n} \\sum_{l=1}^{n} a_{il} b_{li}\n",
    "$$\n",
    "$$\n",
    "\\frac{dy}{d a_{ij}} = b_{ji}\n",
    "$$\n",
    "As a result, we get that:\n",
    "$$\n",
    "\\frac{dy}{dA} = B^T \n",
    "$$"
   ]
  },
  {
   "cell_type": "markdown",
   "metadata": {
    "id": "Dbpm34pSSfu8"
   },
   "source": [
    "## ex. 3"
   ]
  },
  {
   "cell_type": "markdown",
   "metadata": {
    "id": "EaE_MVOhSfu9"
   },
   "source": [
    "$$  \n",
    "y = x^TAc , \\quad A\\in \\mathbb{R}^{N \\times N}, x\\in \\mathbb{R}^{N}, c\\in \\mathbb{R}^{N} \n",
    "$$"
   ]
  },
  {
   "cell_type": "markdown",
   "metadata": {
    "id": "ShJkzSMmSfu-"
   },
   "source": [
    "Let vector $Ac = w$ and then:\n",
    "$$\n",
    "\\frac{dy}{dx} = \\frac{dx^Tw}{x} = w = Ac\n",
    "$$"
   ]
  },
  {
   "cell_type": "markdown",
   "metadata": {
    "id": "gLqoxEEMSfu_"
   },
   "source": [
    "$$\n",
    "\\frac{dy}{dA} = \\frac{d}{dA}(c_1\\sum_{j = 1}^{n} x_jA_{j1} + ... + c_n\\sum_{j = 1}^{n} x_jA_{jn}) = \\frac{d}{dA}tr(cx^TA) = (cx^T)^T = xc^T\n",
    "$$ "
   ]
  },
  {
   "cell_type": "markdown",
   "metadata": {
    "id": "pcbvaVcKSfvA"
   },
   "source": [
    "Hint for the latter (one of the ways): use *ex. 2* result and the fact \n",
    "$$\n",
    "tr(ABC) = tr (CAB)\n",
    "$$"
   ]
  },
  {
   "cell_type": "markdown",
   "metadata": {
    "id": "3TSbK0r7SfvB"
   },
   "source": [
    "## ex. 4"
   ]
  },
  {
   "cell_type": "markdown",
   "metadata": {
    "id": "z_iOtS9nSfvC"
   },
   "source": [
    "Classic matrix factorization example. Given matrix $X$ you need to find $A$, $S$ to approximate $X$. This can be done by simple gradient descent iteratively alternating $A$ and $S$ updates.\n",
    "$$\n",
    "J = || X - AS ||_F^2  , \\quad A\\in \\mathbb{R}^{N \\times R} , \\quad S\\in \\mathbb{R}^{R \\times M}\n",
    "$$\n",
    "$$\n",
    "\\frac{dJ}{dS} = ? \n",
    "$$\n",
    "\n",
    "You may use one of the following approaches:"
   ]
  },
  {
   "cell_type": "markdown",
   "metadata": {
    "id": "ncnewvn-SfvD"
   },
   "source": [
    "#### First approach\n",
    "Using ex.2 and the fact:\n",
    "$$\n",
    "|| X ||_F^2 = tr(XX^T) \n",
    "$$ \n",
    "it is easy to derive gradients (you can find it in one of the refs). "
   ]
  },
  {
   "cell_type": "markdown",
   "metadata": {
    "id": "6oNP3NEKSfvE"
   },
   "source": [
    "#### Second approach\n",
    "You can use *slightly different techniques* if they suits you. Take a look at this derivation:\n",
    "<img src=\"grad.png\">\n",
    "(excerpt from [Handbook of blind source separation, Jutten, page 517](https://books.google.ru/books?id=PTbj03bYH6kC&printsec=frontcover&dq=Handbook+of+Blind+Source+Separation&hl=en&sa=X&ved=0ahUKEwi-q_apiJDLAhULvXIKHVXJDWcQ6AEIHDAA#v=onepage&q=Handbook%20of%20Blind%20Source%20Separation&f=false), open for better picture)."
   ]
  },
  {
   "cell_type": "markdown",
   "metadata": {
    "id": "2Oz-FqiQSfvF"
   },
   "source": [
    "#### Third approach\n",
    "And finally we can use chain rule! \n",
    "let $ F = AS $ \n",
    "\n",
    "**Find**\n",
    "$$\n",
    "\\frac{dJ}{dF} =  \n",
    "$$ \n",
    "and \n",
    "$$\n",
    "\\frac{dF}{dS} =  \n",
    "$$ \n",
    "(the shape should be $ NM \\times RM )$.\n",
    "\n",
    "Now it is easy do get desired gradients:\n",
    "$$\n",
    "\\frac{dJ}{dS} =  \n",
    "$$ "
   ]
  },
  {
   "cell_type": "markdown",
   "metadata": {
    "id": "tyd9OFtIeHbY"
   },
   "source": [
    "#### Let's use the first approach: $|| X ||_F^2 = \\sum\\limits_{i, j = 1}^{N}x_{ij}^2 = tr(XX^T) $\n",
    "$$\n",
    "\\frac{dJ}{dS} = \\frac{dtr\\left[(X - AS)(X - AS)^T\\right]}{dS} = \\frac{dtr\\left[(X - AS)(X^T - S^TA^T)\\right]}{dS} = \\frac{dtr\\left[ XX^T -XS^TA^T - ASX^T + ASS^TA^T \\right]}{dS}\n",
    "$$\n",
    "Then we can get:\n",
    "$$\n",
    "\\frac{dtr\\left[ XX^T -XS^TA^T - ASX^T + ASS^TA^T \\right]}{dS} = \\frac{dtr(XX^T)}{dS} - \\frac{dtr(XS^TA^T)}{dS} - \\frac{dtr(ASX^T)}{dS} + \\frac{dtr(ASS^TA^T)}{dS} = - \\frac{dtr(S^TA^TX)}{dS} - \\frac{dtr(SX^TA)}{dS} + \\frac{dtr(SS^TA^TA)}{dS} + \\frac{dtr(A^TASS^T)}{dS} = -2\\frac{dtr(S(X^TA))}{dS} + ((AS)^TA)^T + A^TAS = 2A^TAS - 2A^TX = 2A^T(AS - X)\n",
    "$$\n",
    "#### Answer: $ \\frac{dJ}{dS} = 2A^T(AS - X) $ "
   ]
  },
  {
   "cell_type": "markdown",
   "metadata": {
    "collapsed": true,
    "id": "Bt7f28nHSfvI",
    "jupyter": {
     "outputs_hidden": true
    }
   },
   "source": [
    "## 2. kNN questions\n",
    "Here come the questions from the assignment0_01. Please, refer to the assignment0_01 to get the context of the questions."
   ]
  },
  {
   "cell_type": "markdown",
   "metadata": {
    "id": "-fndfJYlSfvI"
   },
   "source": [
    "### Question 1\n",
    "\n",
    "Notice the structured patterns in the distance matrix, where some rows or columns are visible brighter. (Note that with the default color scheme black indicates low distances while white indicates high distances.)\n",
    "\n",
    "- What in the data is the cause behind the distinctly bright rows?\n",
    "- What causes the columns?\n",
    "\n",
    "**Answer:**\n",
    "- This could be an observation from a class not presented in the training data set, or it is extremely distinct from all/almost of the training data, most likely in terms of background color.\n",
    "- We can say that this training data point doesn't have any similar points in our test set.\n",
    "\n",
    "To sum up, just I want to say that the bright rows means that the test picture is different from all the train images. And the difference form train to the tests cause the bright columns.\n",
    "\n"
   ]
  },
  {
   "cell_type": "markdown",
   "metadata": {
    "id": "5Rt-xn7ZSfvJ"
   },
   "source": [
    "### Question 2\n",
    "\n",
    "We can also use other distance metrics such as L1 distance.\n",
    "For pixel values $p_{ij}^{(k)}$ at location $(i,j)$ of some image $I_k$, \n",
    "\n",
    "the mean $\\mu$ across all pixels over all images is $$\\mu=\\frac{1}{nhw}\\sum_{k=1}^n\\sum_{i=1}^{h}\\sum_{j=1}^{w}p_{ij}^{(k)}$$\n",
    "And the pixel-wise mean $\\mu_{ij}$ across all images is \n",
    "$$\\mu_{ij}=\\frac{1}{n}\\sum_{k=1}^np_{ij}^{(k)}.$$\n",
    "The general standard deviation $\\sigma$ and pixel-wise standard deviation $\\sigma_{ij}$ is defined similarly.\n",
    "\n",
    "Which of the following preprocessing steps will not change the performance of a Nearest Neighbor classifier that uses L1 distance? Select all that apply.\n",
    "1. Subtracting the mean $\\mu$ ($\\tilde{p}_{ij}^{(k)}=p_{ij}^{(k)}-\\mu$.)\n",
    "2. Subtracting the per pixel mean $\\mu_{ij}$  ($\\tilde{p}_{ij}^{(k)}=p_{ij}^{(k)}-\\mu_{ij}$.)\n",
    "3. Subtracting the mean $\\mu$ and dividing by the standard deviation $\\sigma$.\n",
    "4. Subtracting the pixel-wise mean $\\mu_{ij}$ and dividing by the pixel-wise standard deviation $\\sigma_{ij}$.\n",
    "5. Rotating the coordinate axes of the data.\n",
    "\n",
    "*Your Answer:* 1, 2, 3\n",
    "\n",
    "\n",
    "*Your Explanation:*\n",
    "The L1 distance between a pair of images $a$ and $b$ is defined as:\n",
    "$$ || a - b || = \\sum_{i=1}^{h} \\sum_{j=1}^{w} | p_{ij}^{(a)} - p_{ij}^{(b)} | $$\n",
    "\n",
    "- The choice 1, 2 and 3 are the normalized process methods, so they are true. Because if we consider first preprocessing step, we can see that, subtracting each by a constant has no effect:\n",
    "\n",
    "$$ \n",
    "(x - 1) - (y - 1) = x - 1 - y + 1 = x - y\n",
    "$$\n",
    "\n",
    " Second preprocessing step also same as first, we are subtracting by a constant for each pixel. What about third step, for the subtraction via $\\mu$, the effect is the same as first preprocessing step, we are subtracting by a constant for each pixel. Thus, there is also no change.\n",
    "- In the fourth step, the $\\mu$ values get cancelled out same as first statement but the $\\sigma$ scaling factor stays. In this situation, $\\sigma$ is different for each pixel, which means certain pixels are given more favour than others. That's why we can say that fourth statement is changeable.\n",
    "- In fifth preprocessing step, we can say that it will change, because L1 distance ordering is then not preserved under rotation.\n"
   ]
  },
  {
   "cell_type": "markdown",
   "metadata": {
    "id": "Pf6MGob3SfvJ"
   },
   "source": [
    "## Question 3\n",
    "\n",
    "Which of the following statements about $k$-Nearest Neighbor ($k$-NN) are true in a classification setting, and for all $k$? Select all that apply.\n",
    "1. The decision boundary (hyperplane between classes in feature space) of the k-NN classifier is linear.\n",
    "2. The training error of a 1-NN will always be lower than that of 5-NN.\n",
    "3. The test error of a 1-NN will always be lower than that of a 5-NN.\n",
    "4. The time needed to classify a test example with the k-NN classifier grows with the size of the training set.\n",
    "5. None of the above.\n",
    "\n",
    "*Your Answer:* 4\n",
    "\n",
    "\n",
    "*Your Explanation:* \n",
    "  - First is not true, because while the decision boundary between two points will be linear, we have a set of pairs meaning we have a set of linear boundaries, that when combined, result in a non-linear boundary. \n",
    "  - Let's consider second statement, 1-NN will always have a training error less than or equal to k-NN, k > 1, thus second also false. \n",
    "  - Third statement obviously false.\n",
    "  - In fourth statement more train examples means we need to compute more distances.\n",
    "\n",
    "\n"
   ]
  }
 ],
 "metadata": {
  "colab": {
   "provenance": []
  },
  "kernelspec": {
   "display_name": "Python 3 (ipykernel)",
   "language": "python",
   "name": "python3"
  },
  "language_info": {
   "codemirror_mode": {
    "name": "ipython",
    "version": 3
   },
   "file_extension": ".py",
   "mimetype": "text/x-python",
   "name": "python",
   "nbconvert_exporter": "python",
   "pygments_lexer": "ipython3",
   "version": "3.10.6"
  }
 },
 "nbformat": 4,
 "nbformat_minor": 1
}
